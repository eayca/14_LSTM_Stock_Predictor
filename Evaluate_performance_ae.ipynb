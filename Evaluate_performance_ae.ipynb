{
 "cells": [
  {
   "cell_type": "markdown",
   "metadata": {},
   "source": [
    "# Evaluate the performance of each model"
   ]
  },
  {
   "cell_type": "markdown",
   "metadata": {},
   "source": [
    "- Which model has a lower loss?\n",
    "   \n",
    "   LSTM Stock Predictor Using Closing Prices model has a lower loss.\n",
    "    \n",
    "- Which model tracks the actual values better over time?\n",
    "   \n",
    "   LSTM Stock Predictor Using Closing Prices model tracks the actual values better over time.\n",
    "    \n",
    "- Which window size works best for the model?\n",
    "    \n",
    "    Lower window size works best for the model. (window_size=2)"
   ]
  },
  {
   "cell_type": "code",
   "execution_count": null,
   "metadata": {},
   "outputs": [],
   "source": []
  }
 ],
 "metadata": {
  "kernelspec": {
   "display_name": "Python 3",
   "language": "python",
   "name": "python3"
  },
  "language_info": {
   "codemirror_mode": {
    "name": "ipython",
    "version": 3
   },
   "file_extension": ".py",
   "mimetype": "text/x-python",
   "name": "python",
   "nbconvert_exporter": "python",
   "pygments_lexer": "ipython3",
   "version": "3.8.5"
  }
 },
 "nbformat": 4,
 "nbformat_minor": 4
}
